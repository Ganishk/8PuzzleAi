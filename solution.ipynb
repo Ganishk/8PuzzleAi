{
 "cells": [
  {
   "cell_type": "markdown",
   "id": "b8507ff6-6522-4a39-9fa8-68e3b0a59dfc",
   "metadata": {},
   "source": [
    "# 8 Queens Puzzle's Solution by Hill-Climbing Algorithm"
   ]
  },
  {
   "cell_type": "markdown",
   "id": "54da3793-a72e-4553-ac13-2e489b3513b8",
   "metadata": {},
   "source": [
    "## Initilization of states"
   ]
  },
  {
   "cell_type": "code",
   "execution_count": 1,
   "id": "55fc80c8-476f-48b8-90b3-099013928581",
   "metadata": {},
   "outputs": [],
   "source": [
    "def print_grid(state):\n",
    "    print(\"/=====|\\n|\",end='')\n",
    "    for i in range(9):\n",
    "        print(state[i],end='')\n",
    "        if i%3==2: print(\"|\\n|\",end='')\n",
    "        else: print(end=' ')\n",
    "    print(\"=====/\")"
   ]
  },
  {
   "cell_type": "code",
   "execution_count": 14,
   "id": "278e3e24-a525-4585-99c1-6307bcac3c1f",
   "metadata": {},
   "outputs": [],
   "source": [
    "initial_state = [\n",
    "    1, 2, 3,\n",
    "    8, 6, 4,\n",
    "    7, 5, 0,\n",
    "]\n",
    "\n",
    "goal_state = [\n",
    "    1, 2, 3,\n",
    "    8, 0, 4,\n",
    "    7, 6, 5,\n",
    "]\n",
    "\n",
    "all_possible_goal_states = [\n",
    "    goal_state, [\n",
    "        7, 8, 1,\n",
    "        6, 0, 2,\n",
    "        5, 4, 3\n",
    "    ],[\n",
    "        5, 6, 7,\n",
    "        4, 0, 8,\n",
    "        3, 2, 1\n",
    "    ],[\n",
    "        3, 4, 5,\n",
    "        2, 0, 6,\n",
    "        1, 8, 7\n",
    "    ]\n",
    "]\n",
    "\n",
    "goal_state = [4, 0, 1, 2, 5, 8, 7, 6, 3] # this look-up list reduces the time-complexity in h2 heuristics from O(n * n) to O(n)\n",
    "\n",
    "# Multiple goal states is possible due to symmetry, hence, go with forward chaining (data-driven search)"
   ]
  },
  {
   "cell_type": "markdown",
   "id": "6c5a9816-0417-4fb3-8ff8-88564dca27bb",
   "metadata": {},
   "source": [
    "## Heuristic function definitions"
   ]
  },
  {
   "cell_type": "code",
   "execution_count": 3,
   "id": "7b0ed527-1ffa-4f7a-8eea-0798b12e4460",
   "metadata": {},
   "outputs": [
    {
     "data": {
      "text/plain": [
       "6"
      ]
     },
     "execution_count": 3,
     "metadata": {},
     "output_type": "execute_result"
    }
   ],
   "source": [
    "# No. of tiles out of place heuristics\n",
    "h1 = lambda state: sum(state[i] == goal_state[i] for i in range(9)) # O(n)\n",
    "\n",
    "h1(initial_state)"
   ]
  },
  {
   "cell_type": "code",
   "execution_count": 15,
   "id": "18b01ec1-4c7d-4f6c-b15d-0dc6fa513428",
   "metadata": {},
   "outputs": [
    {
     "data": {
      "text/plain": [
       "4"
      ]
     },
     "execution_count": 15,
     "metadata": {},
     "output_type": "execute_result"
    }
   ],
   "source": [
    "# Manhattan distance from original place heuristics\n",
    "def h2(state):\n",
    "    \"\"\"\n",
    "    TC: O(n)\n",
    "    \"\"\"\n",
    "    cost = 0;\n",
    "    for idx in range(9): # O(n)\n",
    "        val = state[idx]\n",
    "        goal = goal_state[val] # O(n)\n",
    "        temp = abs(idx%3 - goal%3) + abs(idx//3 - goal//3)\n",
    "        # modulo is column no. and floor division is row no.\n",
    "        cost += temp\n",
    "\n",
    "    return cost\n",
    "\n",
    "h2(initial_state)"
   ]
  },
  {
   "cell_type": "code",
   "execution_count": 5,
   "id": "c3984c4b-aec0-4d63-a294-c3e8c32f7c7f",
   "metadata": {},
   "outputs": [
    {
     "data": {
      "text/plain": [
       "10"
      ]
     },
     "execution_count": 5,
     "metadata": {},
     "output_type": "execute_result"
    }
   ],
   "source": [
    "# Combination of the above\n",
    "h3 = lambda state: h1(state) + h2(state) # O(n * n)\n",
    "\n",
    "h3(initial_state)"
   ]
  },
  {
   "cell_type": "markdown",
   "id": "34219051-9c3e-4766-93c3-7bce367aae43",
   "metadata": {},
   "source": [
    "## Implementation of Algorithm"
   ]
  },
  {
   "cell_type": "code",
   "execution_count": 6,
   "id": "8fd18b0e-97f7-40a6-b8dd-ece3c5aeb2c3",
   "metadata": {},
   "outputs": [],
   "source": [
    "def possibilities(index):\n",
    "\n",
    "    UP    = 0b1000\n",
    "    DOWN  = 0b0100\n",
    "    LEFT  = 0b0010\n",
    "    RIGHT = 0b0001\n",
    "\n",
    "    moves = 0b1111; # up, down, left, right\n",
    "\n",
    "    match index//3: # row\n",
    "        case 0: moves ^= UP\n",
    "        case 2: moves ^= DOWN\n",
    "    match index%3: # column\n",
    "        case 0: moves ^= LEFT\n",
    "        case 2: moves ^= RIGHT\n",
    "\n",
    "    return moves"
   ]
  },
  {
   "cell_type": "code",
   "execution_count": 7,
   "id": "e1ca63d2-9e9e-4858-a97c-e2afce06ee93",
   "metadata": {},
   "outputs": [],
   "source": [
    "def next_move(current_state, depth, heuristic,depth_limit=1000):\n",
    "    \"\"\"\n",
    "    TC: O(n + 4 * heuristic_TC\n",
    "    function_cost = depth_cost + heuristic_cost\n",
    "    \"\"\"\n",
    "\n",
    "    if (depth > depth_limit): return current_state, -1\n",
    "\n",
    "    UP    = 0b1000\n",
    "    DOWN  = 0b0100\n",
    "    LEFT  = 0b0010\n",
    "    RIGHT = 0b0001\n",
    "\n",
    "    zero_index = current_state.index(0); # O(n)\n",
    "    moves = possibilities(zero_index)\n",
    "\n",
    "    next_state = None;\n",
    "    cost = 1e9\n",
    "    if moves & UP:\n",
    "        temp = list(current_state)\n",
    "        temp[zero_index], temp[zero_index-3] = temp[zero_index-3], temp[zero_index]\n",
    "        f = depth + heuristic(temp)\n",
    "        if (f < cost):\n",
    "            cost = f\n",
    "            next_state = temp\n",
    "\n",
    "\n",
    "    if moves & DOWN:\n",
    "        temp = list(current_state)\n",
    "        temp[zero_index], temp[zero_index+3] = temp[zero_index+3], temp[zero_index]\n",
    "        f = depth + heuristic(temp)\n",
    "        if (f < cost):\n",
    "            cost = f\n",
    "            next_state = temp\n",
    "\n",
    "    if moves & LEFT:\n",
    "        temp = list(current_state)\n",
    "        temp[zero_index], temp[zero_index-1] = temp[zero_index-1], temp[zero_index]\n",
    "        f = depth + heuristic(temp)\n",
    "        if (f < cost):\n",
    "            cost = f\n",
    "            next_state = temp\n",
    "\n",
    "    if moves & RIGHT:\n",
    "        temp = list(current_state)\n",
    "        temp[zero_index], temp[zero_index+1] = temp[zero_index+1], temp[zero_index]\n",
    "        f = depth + heuristic(temp)\n",
    "        if (f < cost):\n",
    "            cost = f\n",
    "            next_state = temp\n",
    "\n",
    "    return next_state,f"
   ]
  },
  {
   "cell_type": "markdown",
   "id": "dd905a2a-0747-4489-b156-acb05dfd9971",
   "metadata": {},
   "source": [
    "## Hill-Climbing solution"
   ]
  },
  {
   "cell_type": "code",
   "execution_count": 13,
   "id": "cd83ecf8-a82b-43f4-87e6-deee9087e075",
   "metadata": {
    "scrolled": true
   },
   "outputs": [
    {
     "name": "stdout",
     "output_type": "stream",
     "text": [
      "/=====|\n",
      "|1 2 3|\n",
      "|8 6 4|\n",
      "|7 5 0|\n",
      "|=====/\n",
      "/=====|\n",
      "|1 2 3|\n",
      "|8 6 0|\n",
      "|7 5 4|\n",
      "|=====/\n",
      "FOUND AN EXTREMA\n",
      "/=====|\n",
      "|1 2 3|\n",
      "|8 6 4|\n",
      "|7 5 0|\n",
      "|=====/\n"
     ]
    }
   ],
   "source": [
    "iterations = 4\n",
    "curr_state = initial_state\n",
    "prev_cost = float('inf')\n",
    "depth = 0\n",
    "\n",
    "print_grid(initial_state)\n",
    "for i in range(iterations):\n",
    "    best_neighbour, best_cost = next_move(curr_state,depth,h3)\n",
    "    if prev_cost <= best_cost:\n",
    "        print(\"FOUND AN EXTREMA\")\n",
    "        break\n",
    "    curr = best_neighbour\n",
    "    prev_cost = best_cost\n",
    "    depth += 1\n",
    "    print_grid(curr)\n",
    "\n",
    "print_grid(curr_state)"
   ]
  }
 ],
 "metadata": {
  "kernelspec": {
   "display_name": "Python 3 (ipykernel)",
   "language": "python",
   "name": "python3"
  },
  "language_info": {
   "codemirror_mode": {
    "name": "ipython",
    "version": 3
   },
   "file_extension": ".py",
   "mimetype": "text/x-python",
   "name": "python",
   "nbconvert_exporter": "python",
   "pygments_lexer": "ipython3",
   "version": "3.12.4"
  }
 },
 "nbformat": 4,
 "nbformat_minor": 5
}
