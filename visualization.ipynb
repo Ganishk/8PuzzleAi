{
 "cells": [
  {
   "cell_type": "markdown",
   "id": "b8507ff6-6522-4a39-9fa8-68e3b0a59dfc",
   "metadata": {},
   "source": [
    "# Visualization"
   ]
  },
  {
   "cell_type": "markdown",
   "id": "6a4b2f0f-c074-4671-aa92-f921d27f3283",
   "metadata": {},
   "source": []
  },
  {
   "cell_type": "code",
   "execution_count": 15,
   "id": "1e31c2e0-c064-40a1-a0b9-7a6c3d01517b",
   "metadata": {},
   "outputs": [],
   "source": [
    "def generate_states(states, current_state, visited):\n",
    "    if len(current_state) == 9:\n",
    "        states.append(list(current_state))\n",
    "        return\n",
    "    for i in range(9):\n",
    "        if visited[i] == False:\n",
    "            visited[i] = True\n",
    "            current_state.append(i)\n",
    "            generate_states(states, current_state, visited)\n",
    "            current_state.pop()\n",
    "            visited[i] = False"
   ]
  },
  {
   "cell_type": "code",
   "execution_count": 22,
   "id": "55fc80c8-476f-48b8-90b3-099013928581",
   "metadata": {},
   "outputs": [],
   "source": [
    "def print_grid(state):\n",
    "    print(\"===============\")\n",
    "    for i in range(9):\n",
    "        print(state[i],end='')\n",
    "        if i%3==2: print()\n",
    "        else: print(end=' ')\n",
    "    print(\"===============\")"
   ]
  },
  {
   "cell_type": "code",
   "execution_count": 29,
   "id": "6c38db4f-fcb4-4a3c-b0ca-57c76ab65b12",
   "metadata": {},
   "outputs": [],
   "source": [
    "states = []\n",
    "current_state = []\n",
    "visited = [False for i in range(9)]\n",
    "\n",
    "generate_states(states,current_state,visited) # O(n!)\n",
    "\n",
    "no_of_states = len(states) # 9! = 362880\n",
    "goal_state = [\n",
    "    1, 2, 3,\n",
    "    8, 0, 4,\n",
    "    7, 6, 5,]\n",
    "\n",
    "initial_state = [\n",
    "    3, 1, 2,\n",
    "    8, 4, 0,\n",
    "    7, 6, 5,\n",
    "]\n",
    "\n",
    "all_possible_goal_states = [\n",
    "    goal_state, [\n",
    "        7, 8, 1,\n",
    "        6, 0, 2,\n",
    "        5, 4, 3\n",
    "    ],[\n",
    "        5, 6, 7,\n",
    "        4, 0, 8,\n",
    "        3, 2, 1\n",
    "    ],[\n",
    "        3, 4, 5,\n",
    "        2, 0, 6,\n",
    "        1, 8, 7\n",
    "    ]\n",
    "]\n",
    "\n",
    "# Multiple goal states by symmetry, hence, go with forward chaining (data-driven search)"
   ]
  },
  {
   "cell_type": "code",
   "execution_count": 3,
   "id": "de16842e-5b82-4846-a227-aceb0a8b2a35",
   "metadata": {},
   "outputs": [
    {
     "name": "stdout",
     "output_type": "stream",
     "text": [
      "46685\n",
      "318845\n",
      "230903\n",
      "138487\n"
     ]
    }
   ],
   "source": [
    "# sum(initial_state[i] != goal_state[i] for i in range(9))\n",
    "initial_state.index(0) # O(n)\n",
    "\n",
    "temp = []\n",
    "for gs in all_possible_goal_states:\n",
    "    temp.append(states.index(gs))\n",
    "    print(temp[-1])"
   ]
  },
  {
   "cell_type": "code",
   "execution_count": 4,
   "id": "7de50c4c-a2d1-42ea-9f5a-6cd65610ae09",
   "metadata": {},
   "outputs": [
    {
     "name": "stdout",
     "output_type": "stream",
     "text": [
      "91802\n",
      "92416\n",
      "87942\n",
      "90720\n",
      "90720\n"
     ]
    }
   ],
   "source": [
    "b = sorted(temp)\n",
    "print(b[1] - b[0])\n",
    "print(b[2] - b[1])\n",
    "print(b[3] - b[2])\n",
    "print(no_of_states//4)\n",
    "print((91802 + 92416 + 87942)//3)"
   ]
  },
  {
   "cell_type": "code",
   "execution_count": 5,
   "id": "7b0ed527-1ffa-4f7a-8eea-0798b12e4460",
   "metadata": {},
   "outputs": [
    {
     "data": {
      "text/plain": [
       "4"
      ]
     },
     "execution_count": 5,
     "metadata": {},
     "output_type": "execute_result"
    }
   ],
   "source": [
    "# No. of tiles out of place heuristics\n",
    "h1 = lambda state: sum(state[i] == goal_state[i] for i in range(9))\n",
    "\n",
    "h1(initial_state)"
   ]
  },
  {
   "cell_type": "code",
   "execution_count": 6,
   "id": "18b01ec1-4c7d-4f6c-b15d-0dc6fa513428",
   "metadata": {},
   "outputs": [
    {
     "data": {
      "text/plain": [
       "6"
      ]
     },
     "execution_count": 6,
     "metadata": {},
     "output_type": "execute_result"
    }
   ],
   "source": [
    "# Manhattan distance from original place heuristics\n",
    "def h2(state):\n",
    "    cost = 0;\n",
    "    for idx in range(9):\n",
    "        val = state[idx]\n",
    "        goal = goal_state.index(val)\n",
    "        temp = abs(idx%3 - goal%3) + abs(idx//3 - goal//3)\n",
    "        # modulo is column no. and floor division is row no.\n",
    "        cost += temp\n",
    "\n",
    "    return cost\n",
    "\n",
    "h2(initial_state)"
   ]
  },
  {
   "cell_type": "code",
   "execution_count": 30,
   "id": "207f5a10-7e34-4831-9c2b-7b20a4e8665a",
   "metadata": {},
   "outputs": [
    {
     "name": "stdout",
     "output_type": "stream",
     "text": [
      "up:\tTrue\n",
      "down:\tTrue\n",
      "right:\tFalse\n",
      "left:\tTrue\n"
     ]
    }
   ],
   "source": [
    "ti = initial_state.index(0)\n",
    "up = True\n",
    "down = True\n",
    "left = True\n",
    "right = True\n",
    "\n",
    "match ti%3:\n",
    "    case 0: left = False # leftmost column\n",
    "    case 2: right = False # rightmost column\n",
    "\n",
    "match ti//3:\n",
    "    case 0: up = False # top row\n",
    "    case 2: down = False # bottom row\n",
    "\n",
    "print(f\"up:\\t{up}\\ndown:\\t{down}\\nright:\\t{right}\\nleft:\\t{left}\")"
   ]
  },
  {
   "cell_type": "code",
   "execution_count": 31,
   "id": "210a365c-0e41-4575-857d-c9b2d9142d2d",
   "metadata": {},
   "outputs": [
    {
     "name": "stdout",
     "output_type": "stream",
     "text": [
      "Initial:\t 4 6\n",
      "Up:\t\t 4 8\n",
      "Down:\t\t 3 8\n",
      "Left:\t\t 6 4\n",
      "===============\n",
      "3 1 2\n",
      "8 4 0\n",
      "7 6 5\n",
      "===============\n",
      "===============\n",
      "3 1 2\n",
      "8 4 5\n",
      "7 6 0\n",
      "===============\n",
      "===============\n",
      "3 1 2\n",
      "8 0 4\n",
      "7 6 5\n",
      "===============\n"
     ]
    }
   ],
   "source": [
    "next1 = None\n",
    "next2 = None\n",
    "mini1 = 1e9\n",
    "mini2 = 1e9\n",
    "\n",
    "print(\"Initial:\\t\",h1(initial_state), h2(initial_state))\n",
    "\n",
    "if up:\n",
    "    temp = list(initial_state)\n",
    "    temp[ti],temp[ti-3] = temp[ti-3],temp[ti]\n",
    "    print(\"Up:\\t\\t\",h1(temp),h2(temp))\n",
    "    if (h1(temp) < mini1):\n",
    "        mini1 = h1(temp)\n",
    "        next1 = temp\n",
    "    if (h2(temp) < mini2):\n",
    "        mini2 = h2(temp)\n",
    "        next2 = temp\n",
    "\n",
    "if down:\n",
    "    temp = list(initial_state)\n",
    "    temp[ti],temp[ti+3] = temp[ti+3],temp[ti]\n",
    "    print(\"Down:\\t\\t\",h1(temp),h2(temp))\n",
    "    if (h1(temp) < mini1):\n",
    "        mini1 = h1(temp)\n",
    "        next1 = temp\n",
    "    if (h2(temp) < mini2):\n",
    "        mini2 = h2(temp)\n",
    "        next2 = temp\n",
    "\n",
    "if left:\n",
    "    temp = list(initial_state)\n",
    "    temp[ti],temp[ti-1] = temp[ti-1],temp[ti]\n",
    "    print(\"Left:\\t\\t\",h1(temp),h2(temp))\n",
    "    if (h1(temp) < mini1):\n",
    "        mini1 = h1(temp)\n",
    "        next1 = temp\n",
    "    if (h2(temp) < mini2):\n",
    "        mini2 = h2(temp)\n",
    "        next2 = temp\n",
    "\n",
    "if right:\n",
    "    temp = list(initial_state)\n",
    "    temp[ti],temp[ti+1] = temp[ti+1],temp[ti]\n",
    "    print(\"Right:\\t\\t\",h1(temp),h2(temp))\n",
    "    if (h1(temp) < mini1):\n",
    "        mini1 = h1(temp)\n",
    "        next1 = temp\n",
    "    if (h2(temp) < mini2):\n",
    "        mini2 = h2(temp)\n",
    "        next2 = temp\n",
    "\n",
    "print_grid(initial_state)\n",
    "print_grid(next1)\n",
    "print_grid(next2)"
   ]
  },
  {
   "cell_type": "code",
   "execution_count": 32,
   "id": "6027a0df-19e6-43fd-92ea-5706122f6f25",
   "metadata": {},
   "outputs": [
    {
     "name": "stdout",
     "output_type": "stream",
     "text": [
      "Initial:\t 6 4\n",
      "Up:\t\t 5 6\n",
      "Down:\t\t 4 6\n",
      "Left:\t\t 4 6\n",
      "Right:\t\t 4 6\n",
      "===============\n",
      "3 1 2\n",
      "8 0 4\n",
      "7 6 5\n",
      "===============\n",
      "===============\n",
      "3 1 2\n",
      "8 6 4\n",
      "7 0 5\n",
      "===============\n",
      "===============\n",
      "3 0 2\n",
      "8 1 4\n",
      "7 6 5\n",
      "===============\n"
     ]
    }
   ],
   "source": [
    "initial_state = next2\n",
    "ti = initial_state.index(0)\n",
    "up = True\n",
    "down = True\n",
    "left = True\n",
    "right = True\n",
    "\n",
    "match ti%3:\n",
    "    case 0: left = False # leftmost column\n",
    "    case 2: right = False # rightmost column\n",
    "\n",
    "match ti//3:\n",
    "    case 0: up = False # top row\n",
    "    case 2: down = False # bottom row\n",
    "\n",
    "next1 = None\n",
    "next2 = None\n",
    "mini1 = 1e9\n",
    "mini2 = 1e9\n",
    "\n",
    "print(\"Initial:\\t\",h1(initial_state), h2(initial_state))\n",
    "\n",
    "if up:\n",
    "    temp = list(initial_state)\n",
    "    temp[ti],temp[ti-3] = temp[ti-3],temp[ti]\n",
    "    print(\"Up:\\t\\t\",h1(temp),h2(temp))\n",
    "    if (h1(temp) < mini1):\n",
    "        mini1 = h1(temp)\n",
    "        next1 = temp\n",
    "    if (h2(temp) < mini2):\n",
    "        mini2 = h2(temp)\n",
    "        next2 = temp\n",
    "\n",
    "if down:\n",
    "    temp = list(initial_state)\n",
    "    temp[ti],temp[ti+3] = temp[ti+3],temp[ti]\n",
    "    print(\"Down:\\t\\t\",h1(temp),h2(temp))\n",
    "    if (h1(temp) < mini1):\n",
    "        mini1 = h1(temp)\n",
    "        next1 = temp\n",
    "    if (h2(temp) < mini2):\n",
    "        mini2 = h2(temp)\n",
    "        next2 = temp\n",
    "\n",
    "if left:\n",
    "    temp = list(initial_state)\n",
    "    temp[ti],temp[ti-1] = temp[ti-1],temp[ti]\n",
    "    print(\"Left:\\t\\t\",h1(temp),h2(temp))\n",
    "    if (h1(temp) < mini1):\n",
    "        mini1 = h1(temp)\n",
    "        next1 = temp\n",
    "    if (h2(temp) < mini2):\n",
    "        mini2 = h2(temp)\n",
    "        next2 = temp\n",
    "\n",
    "if right:\n",
    "    temp = list(initial_state)\n",
    "    temp[ti],temp[ti+1] = temp[ti+1],temp[ti]\n",
    "    print(\"Right:\\t\\t\",h1(temp),h2(temp))\n",
    "    if (h1(temp) < mini1):\n",
    "        mini1 = h1(temp)\n",
    "        next1 = temp\n",
    "    if (h2(temp) < mini2):\n",
    "        mini2 = h2(temp)\n",
    "        next2 = temp\n",
    "\n",
    "print_grid(initial_state)\n",
    "print_grid(next1)\n",
    "print_grid(next2)"
   ]
  }
 ],
 "metadata": {
  "kernelspec": {
   "display_name": "Python 3 (ipykernel)",
   "language": "python",
   "name": "python3"
  },
  "language_info": {
   "codemirror_mode": {
    "name": "ipython",
    "version": 3
   },
   "file_extension": ".py",
   "mimetype": "text/x-python",
   "name": "python",
   "nbconvert_exporter": "python",
   "pygments_lexer": "ipython3",
   "version": "3.11.7"
  }
 },
 "nbformat": 4,
 "nbformat_minor": 5
}
